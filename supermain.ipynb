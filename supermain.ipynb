{
 "cells": [
  {
   "cell_type": "code",
   "execution_count": 79,
   "metadata": {},
   "outputs": [],
   "source": [
    "import requests\n",
    "from bs4 import BeautifulSoup\n",
    "import re"
   ]
  },
  {
   "cell_type": "code",
   "execution_count": 80,
   "metadata": {},
   "outputs": [],
   "source": [
    "def get_html(url, path):\n",
    "    response = requests.get(url)\n",
    "    with open(path, \"w\", encoding = \"utf-8\") as f:\n",
    "        f.write(response.text)"
   ]
  },
  {
   "cell_type": "code",
   "execution_count": 81,
   "metadata": {},
   "outputs": [],
   "source": [
    "with open(\"wiki_test.html\", \"r\", encoding = \"utf-8\") as f:\n",
    "    html = f.read()"
   ]
  },
  {
   "cell_type": "code",
   "execution_count": 82,
   "metadata": {},
   "outputs": [],
   "source": [
    "soup = BeautifulSoup(html, \"html.parser\")\n",
    "tables = soup.find_all(\"table\", attrs={\"class\": \"wikitable sortable\"})"
   ]
  },
  {
   "cell_type": "code",
   "execution_count": 83,
   "metadata": {},
   "outputs": [
    {
     "name": "stdout",
     "output_type": "stream",
     "text": [
      "Africa\n",
      "Asia\n",
      "Australia\n",
      "Europe\n",
      "Canada\n",
      "United States\n",
      "Central America\n",
      "Caribbean\n",
      "South America\n"
     ]
    }
   ],
   "source": [
    "data = {}\n",
    "for table in tables:\n",
    "    headings = table.find_previous([\"h2\", \"h3\"]).text\n",
    "    print(headings)\n",
    "    data[headings] = table"
   ]
  },
  {
   "cell_type": "code",
   "execution_count": 84,
   "metadata": {},
   "outputs": [
    {
     "name": "stdout",
     "output_type": "stream",
     "text": [
      "\n",
      "\n",
      "Country\n",
      "\n",
      "\n",
      "\n",
      "Area\n",
      "\n",
      "\n",
      "\n",
      "Old-growth extent\n",
      "\n",
      "\n",
      "\n",
      "WWF ecoregion\n",
      "\n",
      "\n",
      "\n",
      "Old-growth forest type\n",
      "\n"
     ]
    }
   ],
   "source": [
    "table = data[\"Australia\"]\n",
    "first_row = table.tr\n",
    "for td in first_row:\n",
    "    print(td.text)"
   ]
  },
  {
   "cell_type": "code",
   "execution_count": 85,
   "metadata": {},
   "outputs": [
    {
     "data": {
      "text/plain": [
       "['Country',\n",
       " 'Area',\n",
       " 'Old-growth extent',\n",
       " 'WWF ecoregion',\n",
       " 'Old-growth forest type']"
      ]
     },
     "execution_count": 85,
     "metadata": {},
     "output_type": "execute_result"
    }
   ],
   "source": [
    "columns = []\n",
    "for td in first_row:\n",
    "    if td.text.strip() != \"\":\n",
    "        columns.append(td.text.strip())\n",
    "\n",
    "columns"
   ]
  },
  {
   "cell_type": "code",
   "execution_count": 86,
   "metadata": {},
   "outputs": [],
   "source": [
    "rows = table.tbody.find_all(\"tr\")"
   ]
  },
  {
   "cell_type": "code",
   "execution_count": 87,
   "metadata": {},
   "outputs": [],
   "source": [
    "def extract_row_data(columns, row):\n",
    "    row_data = {}\n",
    "    table_cells = row.find_all(\"td\")\n",
    "    for i in range(len(table_cells)):\n",
    "        row_data[columns[i]] = table_cells[i]\n",
    "    \n",
    "    return row_data"
   ]
  },
  {
   "cell_type": "code",
   "execution_count": 88,
   "metadata": {},
   "outputs": [],
   "source": [
    "def clean_row_data(row: dict):\n",
    "\n",
    "    for k in row.keys():\n",
    "        val = row[k]\n",
    "        if re.match(\"\\s\", val.text):\n",
    "            row[k] = \"No data\"\n",
    "\n",
    "        links = val.find_all(\"a\")\n",
    "\n",
    "        for l in links:\n",
    "            if l.get(\"title\") is not None and \"(page does not exist)\" in l.get(\"title\"):\n",
    "                l.replace_with(l.text)\n",
    "\n",
    "            if \"cite\" in l.get(\"href\"):\n",
    "                l.parent.decompose()\n",
    "\n",
    "        if k == \"Old-growth extent\" and row[k] != \"No data\":\n",
    "            data = row[k].text.strip()\n",
    "\n",
    "            data = data.replace(\"\\xa0\", \" \")\n",
    "            \n",
    "            # 2,000, 7,800,000\n",
    "            data = re.search(\"\\d+(?:,\\d{3})*(?:\\.\\d*)? (?:hectares|square kilometres|ha|acres)\", data).group()\n",
    "\n",
    "            parent = row[k].parent\n",
    "            row[k].decompose()\n",
    "\n",
    "            new_tag = soup.new_tag(\"td\")\n",
    "            new_tag.string = data\n",
    "            parent.append(new_tag)\n",
    "\n",
    "            row[k] = new_tag\n",
    "\n",
    "            \n",
    "    return row"
   ]
  },
  {
   "cell_type": "code",
   "execution_count": 89,
   "metadata": {},
   "outputs": [],
   "source": [
    "def prepare_table_data(columns, table):\n",
    "    table_data = []\n",
    "\n",
    "    rows = table.find_all(\"tr\")\n",
    "    rows.pop(0)\n",
    "\n",
    "    for r in rows:\n",
    "        r = extract_row_data(columns=columns, row=r)\n",
    "        r = clean_row_data(r)\n",
    "        table_data.append(r)\n",
    "\n",
    "    return table_data"
   ]
  },
  {
   "cell_type": "code",
   "execution_count": 90,
   "metadata": {},
   "outputs": [],
   "source": [
    "def prepare_all_tables(columns, data):\n",
    "    for k in data.keys():\n",
    "        data[k] = prepare_table_data(columns, data[k])\n",
    "\n",
    "    return data"
   ]
  },
  {
   "cell_type": "code",
   "execution_count": 91,
   "metadata": {},
   "outputs": [
    {
     "data": {
      "text/plain": [
       "[{'Country': <td><a href=\"/wiki/British_Columbia\" title=\"British Columbia\">British Columbia</a>\n",
       "  </td>,\n",
       "  'Area': <td><a href=\"/wiki/Carmanah_Walbran_Provincial_Park\" title=\"Carmanah Walbran Provincial Park\">Carmanah Walbran Provincial Park</a>\n",
       "  </td>,\n",
       "  'Old-growth extent': <td>164 square kilometres</td>,\n",
       "  'WWF ecoregion': <td><a href=\"/wiki/Central_Pacific_coastal_forests\" title=\"Central Pacific coastal forests\">Central Pacific coastal forests</a>\n",
       "  </td>,\n",
       "  'Old-growth forest type': <td><a class=\"mw-redirect\" href=\"/wiki/Coniferous\" title=\"Coniferous\">coniferous</a> <a href=\"/wiki/Temperate_rainforest\" title=\"Temperate rainforest\">temperate rainforest</a>\n",
       "  </td>},\n",
       " {'Country': <td><a href=\"/wiki/British_Columbia\" title=\"British Columbia\">British Columbia</a>\n",
       "  </td>,\n",
       "  'Area': <td><a href=\"/wiki/Clayoquot_Sound\" title=\"Clayoquot Sound\">Clayoquot Sound</a>\n",
       "  </td>,\n",
       "  'Old-growth extent': <td>265,000 hectares</td>,\n",
       "  'WWF ecoregion': <td><a href=\"/wiki/Central_Pacific_coastal_forests\" title=\"Central Pacific coastal forests\">Central Pacific coastal forests</a>\n",
       "  </td>,\n",
       "  'Old-growth forest type': <td><a class=\"mw-redirect\" href=\"/wiki/Coniferous\" title=\"Coniferous\">coniferous</a> <a href=\"/wiki/Temperate_rainforest\" title=\"Temperate rainforest\">temperate rainforest</a>\n",
       "  </td>},\n",
       " {'Country': <td><a href=\"/wiki/British_Columbia\" title=\"British Columbia\">British Columbia</a>\n",
       "  </td>,\n",
       "  'Area': <td><a href=\"/wiki/Great_Bear_Rainforest\" title=\"Great Bear Rainforest\">Great Bear Rainforest</a>\n",
       "  </td>,\n",
       "  'Old-growth extent': <td>16,000 square kilometres</td>,\n",
       "  'WWF ecoregion': <td><a href=\"/wiki/British_Columbia_mainland_coastal_forests\" title=\"British Columbia mainland coastal forests\">British Columbia mainland coastal forests</a>\n",
       "  </td>,\n",
       "  'Old-growth forest type': <td><a class=\"mw-redirect\" href=\"/wiki/Coniferous\" title=\"Coniferous\">coniferous</a> <a href=\"/wiki/Temperate_rainforest\" title=\"Temperate rainforest\">temperate rainforest</a>\n",
       "  </td>},\n",
       " {'Country': <td><a href=\"/wiki/Nova_Scotia\" title=\"Nova Scotia\">Nova Scotia</a>\n",
       "  </td>,\n",
       "  'Area': <td>North River Wilderness Area\n",
       "  </td>,\n",
       "  'Old-growth extent': 'No data',\n",
       "  'WWF ecoregion': <td><a class=\"mw-redirect\" href=\"/wiki/New_England-Acadian_forests\" title=\"New England-Acadian forests\">New England-Acadian forests</a>\n",
       "  </td>,\n",
       "  'Old-growth forest type': <td><a class=\"mw-redirect\" href=\"/wiki/Eastern_Hemlock\" title=\"Eastern Hemlock\">Eastern Hemlock</a>\n",
       "  </td>},\n",
       " {'Country': <td><a href=\"/wiki/Nova_Scotia\" title=\"Nova Scotia\">Nova Scotia</a>\n",
       "  </td>,\n",
       "  'Area': <td>Panuke Lake Nature Reserve\n",
       "  </td>,\n",
       "  'Old-growth extent': <td>47 hectares</td>,\n",
       "  'WWF ecoregion': <td><a class=\"mw-redirect\" href=\"/wiki/New_England-Acadian_forests\" title=\"New England-Acadian forests\">New England-Acadian forests</a>\n",
       "  </td>,\n",
       "  'Old-growth forest type': <td><a class=\"mw-redirect\" href=\"/wiki/Eastern_Hemlock\" title=\"Eastern Hemlock\">Eastern Hemlock</a>, <a class=\"mw-redirect\" href=\"/wiki/Red_Spruce\" title=\"Red Spruce\">Red Spruce</a>\n",
       "  </td>},\n",
       " {'Country': <td><a href=\"/wiki/Nova_Scotia\" title=\"Nova Scotia\">Nova Scotia</a>\n",
       "  </td>,\n",
       "  'Area': <td>Shelburne Heritage River\n",
       "  </td>,\n",
       "  'Old-growth extent': 'No data',\n",
       "  'WWF ecoregion': <td><a class=\"mw-redirect\" href=\"/wiki/New_England-Acadian_forests\" title=\"New England-Acadian forests\">New England-Acadian forests</a>\n",
       "  </td>,\n",
       "  'Old-growth forest type': <td><a class=\"mw-redirect\" href=\"/wiki/Eastern_Hemlock\" title=\"Eastern Hemlock\">Eastern Hemlock</a>, pine\n",
       "  </td>},\n",
       " {'Country': <td><a href=\"/wiki/Nova_Scotia\" title=\"Nova Scotia\">Nova Scotia</a>\n",
       "  </td>,\n",
       "  'Area': <td><a href=\"/wiki/Pollett%27s_Cove\" title=\"Pollett's Cove\">Pollett's Cove</a>\n",
       "  </td>,\n",
       "  'Old-growth extent': 'No data',\n",
       "  'WWF ecoregion': <td><a class=\"mw-redirect\" href=\"/wiki/Eastern_Canadian_forests\" title=\"Eastern Canadian forests\">Eastern Canadian forests</a>, <a class=\"mw-redirect\" href=\"/wiki/New_England-Acadian_forests\" title=\"New England-Acadian forests\">New England-Acadian forests</a>\n",
       "  </td>,\n",
       "  'Old-growth forest type': <td>boreal\n",
       "  </td>},\n",
       " {'Country': <td><a href=\"/wiki/Nova_Scotia\" title=\"Nova Scotia\">Nova Scotia</a>\n",
       "  </td>,\n",
       "  'Area': <td>French River Wilderness Area\n",
       "  </td>,\n",
       "  'Old-growth extent': 'No data',\n",
       "  'WWF ecoregion': <td><a class=\"mw-redirect\" href=\"/wiki/New_England-Acadian_forests\" title=\"New England-Acadian forests\">New England-Acadian forests</a>\n",
       "  </td>,\n",
       "  'Old-growth forest type': <td><a class=\"mw-redirect\" href=\"/wiki/Eastern_Hemlock\" title=\"Eastern Hemlock\">Eastern Hemlock</a>\n",
       "  </td>},\n",
       " {'Country': <td><a href=\"/wiki/Nova_Scotia\" title=\"Nova Scotia\">Nova Scotia</a>\n",
       "  </td>,\n",
       "  'Area': <td>Trout Brook Wilderness Area\n",
       "  </td>,\n",
       "  'Old-growth extent': 'No data',\n",
       "  'WWF ecoregion': 'No data',\n",
       "  'Old-growth forest type': <td>deciduous\n",
       "  </td>},\n",
       " {'Country': <td><a href=\"/wiki/Nova_Scotia\" title=\"Nova Scotia\">Nova Scotia</a>\n",
       "  </td>,\n",
       "  'Area': <td><a href=\"/wiki/Tobeatic_Wilderness_Area\" title=\"Tobeatic Wilderness Area\">Tobeatic Wilderness Area</a>\n",
       "  </td>,\n",
       "  'Old-growth extent': 'No data',\n",
       "  'WWF ecoregion': <td><a class=\"mw-redirect\" href=\"/wiki/New_England-Acadian_forests\" title=\"New England-Acadian forests\">New England-Acadian forests</a>\n",
       "  </td>,\n",
       "  'Old-growth forest type': <td><a class=\"mw-redirect\" href=\"/wiki/Eastern_Hemlock\" title=\"Eastern Hemlock\">Eastern Hemlock</a>, pine\n",
       "  </td>},\n",
       " {'Country': <td><a href=\"/wiki/Nova_Scotia\" title=\"Nova Scotia\">Nova Scotia</a>\n",
       "  </td>,\n",
       "  'Area': <td>Portapique River Wilderness Area\n",
       "  </td>,\n",
       "  'Old-growth extent': 'No data',\n",
       "  'WWF ecoregion': <td><a class=\"mw-redirect\" href=\"/wiki/New_England-Acadian_forests\" title=\"New England-Acadian forests\">New England-Acadian forests</a>\n",
       "  </td>,\n",
       "  'Old-growth forest type': <td><a class=\"mw-redirect\" href=\"/wiki/Eastern_Hemlock\" title=\"Eastern Hemlock\">Eastern Hemlock</a>, <a class=\"mw-redirect\" href=\"/wiki/Red_Spruce\" title=\"Red Spruce\">Red Spruce</a>\n",
       "  </td>},\n",
       " {'Country': <td><a href=\"/wiki/Nova_Scotia\" title=\"Nova Scotia\">Nova Scotia</a>\n",
       "  </td>,\n",
       "  'Area': <td><a href=\"/wiki/Waverley%E2%80%93Salmon_River_Long_Lake_Wilderness_Area\" title=\"Waverley–Salmon River Long Lake Wilderness Area\">Waverley–Salmon River Long Lake Wilderness Area</a>\n",
       "  </td>,\n",
       "  'Old-growth extent': 'No data',\n",
       "  'WWF ecoregion': <td><a class=\"mw-redirect\" href=\"/wiki/New_England-Acadian_forests\" title=\"New England-Acadian forests\">New England-Acadian forests</a>\n",
       "  </td>,\n",
       "  'Old-growth forest type': <td><a class=\"mw-redirect\" href=\"/wiki/Eastern_Hemlock\" title=\"Eastern Hemlock\">Eastern Hemlock</a>, <a class=\"mw-redirect\" href=\"/wiki/Red_Pine\" title=\"Red Pine\">Red Pine</a>, <a class=\"mw-redirect\" href=\"/wiki/Eastern_White_Pine\" title=\"Eastern White Pine\">Eastern White Pine</a>\n",
       "  </td>},\n",
       " {'Country': <td><a href=\"/wiki/Nova_Scotia\" title=\"Nova Scotia\">Nova Scotia</a>\n",
       "  </td>,\n",
       "  'Area': <td>Boggy Lake Wilderness Area\n",
       "  </td>,\n",
       "  'Old-growth extent': 'No data',\n",
       "  'WWF ecoregion': <td><a class=\"mw-redirect\" href=\"/wiki/New_England-Acadian_forests\" title=\"New England-Acadian forests\">New England-Acadian forests</a>\n",
       "  </td>,\n",
       "  'Old-growth forest type': <td><a class=\"mw-redirect\" href=\"/wiki/Sugar_Maple\" title=\"Sugar Maple\">Sugar Maple</a>, <a class=\"mw-redirect\" href=\"/wiki/Yellow_Birch\" title=\"Yellow Birch\">Yellow Birch</a>, <a class=\"mw-redirect\" href=\"/wiki/American_Beech\" title=\"American Beech\">American Beech</a>\n",
       "  </td>},\n",
       " {'Country': <td><a href=\"/wiki/Nova_Scotia\" title=\"Nova Scotia\">Nova Scotia</a>\n",
       "  </td>,\n",
       "  'Area': <td>Great Barren &amp; Quinan Lakes Nature Reserve\n",
       "  </td>,\n",
       "  'Old-growth extent': 'No data',\n",
       "  'WWF ecoregion': <td><a class=\"mw-redirect\" href=\"/wiki/New_England-Acadian_forests\" title=\"New England-Acadian forests\">New England-Acadian forests</a>\n",
       "  </td>,\n",
       "  'Old-growth forest type': <td><a class=\"mw-redirect\" href=\"/wiki/Eastern_Hemlock\" title=\"Eastern Hemlock\">Eastern Hemlock</a>, <a class=\"mw-redirect\" href=\"/wiki/Red_Spruce\" title=\"Red Spruce\">Red Spruce</a>\n",
       "  </td>},\n",
       " {'Country': <td><a href=\"/wiki/Nova_Scotia\" title=\"Nova Scotia\">Nova Scotia</a>\n",
       "  </td>,\n",
       "  'Area': <td>MacFarlane Woods Nature Reserve\n",
       "  </td>,\n",
       "  'Old-growth extent': 'No data',\n",
       "  'WWF ecoregion': <td><a class=\"mw-redirect\" href=\"/wiki/New_England-Acadian_forests\" title=\"New England-Acadian forests\">New England-Acadian forests</a>\n",
       "  </td>,\n",
       "  'Old-growth forest type': <td><a class=\"mw-redirect\" href=\"/wiki/Sugar_Maple\" title=\"Sugar Maple\">Sugar Maple</a>, <a class=\"mw-redirect\" href=\"/wiki/Yellow_Birch\" title=\"Yellow Birch\">Yellow Birch</a>, <a class=\"mw-redirect\" href=\"/wiki/American_Beech\" title=\"American Beech\">American Beech</a>\n",
       "  </td>},\n",
       " {'Country': <td><a href=\"/wiki/Nova_Scotia\" title=\"Nova Scotia\">Nova Scotia</a>\n",
       "  </td>,\n",
       "  'Area': <td>Bornish Hill Nature Reserve\n",
       "  </td>,\n",
       "  'Old-growth extent': 'No data',\n",
       "  'WWF ecoregion': <td><a class=\"mw-redirect\" href=\"/wiki/New_England-Acadian_forests\" title=\"New England-Acadian forests\">New England-Acadian forests</a>\n",
       "  </td>,\n",
       "  'Old-growth forest type': <td>hardwood\n",
       "  </td>},\n",
       " {'Country': <td><a href=\"/wiki/Nova_Scotia\" title=\"Nova Scotia\">Nova Scotia</a>\n",
       "  </td>,\n",
       "  'Area': <td>Sporting Lake Nature Reserve\n",
       "  </td>,\n",
       "  'Old-growth extent': <td>25 hectares</td>,\n",
       "  'WWF ecoregion': <td><a class=\"mw-redirect\" href=\"/wiki/New_England-Acadian_forests\" title=\"New England-Acadian forests\">New England-Acadian forests</a>\n",
       "  </td>,\n",
       "  'Old-growth forest type': <td><a class=\"mw-redirect\" href=\"/wiki/Eastern_Hemlock\" title=\"Eastern Hemlock\">Eastern Hemlock</a>, <a class=\"mw-redirect\" href=\"/wiki/Eastern_White_Pine\" title=\"Eastern White Pine\">White Pine</a>, <a class=\"mw-redirect\" href=\"/wiki/Red_Spruce\" title=\"Red Spruce\">Red Spruce</a>\n",
       "  </td>},\n",
       " {'Country': <td><a href=\"/wiki/Ontario\" title=\"Ontario\">Ontario</a>\n",
       "  </td>,\n",
       "  'Area': <td>Gillies Grove, <a href=\"/wiki/Arnprior\" title=\"Arnprior\">Arnprior</a>\n",
       "  </td>,\n",
       "  'Old-growth extent': <td>18 hectares</td>,\n",
       "  'WWF ecoregion': <td><a href=\"/wiki/Eastern_Great_Lakes_lowland_forests\" title=\"Eastern Great Lakes lowland forests\">Eastern Great Lakes lowland forests</a>\n",
       "  </td>,\n",
       "  'Old-growth forest type': 'No data'},\n",
       " {'Country': <td><a href=\"/wiki/Ontario\" title=\"Ontario\">Ontario</a>\n",
       "  </td>,\n",
       "  'Area': <td><a href=\"/wiki/Obabika_Old-Growth_Forest\" title=\"Obabika Old-Growth Forest\">Obabika Old-Growth Forest</a>\n",
       "  </td>,\n",
       "  'Old-growth extent': <td>2,400 hectares</td>,\n",
       "  'WWF ecoregion': <td><a class=\"mw-redirect\" href=\"/wiki/Eastern_forest-boreal_transition\" title=\"Eastern forest-boreal transition\">Eastern forest-boreal transition</a>\n",
       "  </td>,\n",
       "  'Old-growth forest type': 'No data'},\n",
       " {'Country': <td><a href=\"/wiki/Ontario\" title=\"Ontario\">Ontario</a>\n",
       "  </td>,\n",
       "  'Area': <td><a href=\"/wiki/Quetico_Provincial_Park\" title=\"Quetico Provincial Park\">Quetico Provincial Park</a>\n",
       "  </td>,\n",
       "  'Old-growth extent': <td>1,500 square kilometres</td>,\n",
       "  'WWF ecoregion': <td><a href=\"/wiki/Western_Great_Lakes_forests\" title=\"Western Great Lakes forests\">Western Great Lakes forests</a>\n",
       "  </td>,\n",
       "  'Old-growth forest type': 'No data'},\n",
       " {'Country': <td><a href=\"/wiki/Ontario\" title=\"Ontario\">Ontario</a>\n",
       "  </td>,\n",
       "  'Area': <td><a href=\"/wiki/White_Bear_Forest\" title=\"White Bear Forest\">White Bear Forest</a>\n",
       "  </td>,\n",
       "  'Old-growth extent': 'No data',\n",
       "  'WWF ecoregion': <td><a class=\"mw-redirect\" href=\"/wiki/Eastern_forest-boreal_transition\" title=\"Eastern forest-boreal transition\">Eastern forest-boreal transition</a>\n",
       "  </td>,\n",
       "  'Old-growth forest type': 'No data'},\n",
       " {'Country': <td><a href=\"/wiki/Ontario\" title=\"Ontario\">Ontario</a>\n",
       "  </td>,\n",
       "  'Area': <td><a class=\"mw-redirect\" href=\"/wiki/Wolf_Lake_Forest_Reserve\" title=\"Wolf Lake Forest Reserve\">Wolf Lake Forest Reserve</a>\n",
       "  </td>,\n",
       "  'Old-growth extent': <td>336 hectares</td>,\n",
       "  'WWF ecoregion': <td><a class=\"mw-redirect\" href=\"/wiki/Eastern_forest-boreal_transition\" title=\"Eastern forest-boreal transition\">Eastern forest-boreal transition</a>\n",
       "  </td>,\n",
       "  'Old-growth forest type': <td>red pine\n",
       "  </td>},\n",
       " {'Country': <td><a href=\"/wiki/Quebec\" title=\"Quebec\">Quebec</a>\n",
       "  </td>,\n",
       "  'Area': <td><a href=\"/wiki/Bois_Beckett_Forest\" title=\"Bois Beckett Forest\">Bois Beckett Forest</a>, <a href=\"/wiki/Sherbrooke\" title=\"Sherbrooke\">Sherbrooke</a>\n",
       "  </td>,\n",
       "  'Old-growth extent': <td>6 ha</td>,\n",
       "  'WWF ecoregion': <td><a class=\"mw-redirect\" href=\"/wiki/New_England-Acadian_forests\" title=\"New England-Acadian forests\">New England-Acadian forests</a>\n",
       "  </td>,\n",
       "  'Old-growth forest type': <td>hemlock, beech\n",
       "  </td>},\n",
       " {'Country': <td>Quebec\n",
       "  </td>,\n",
       "  'Area': <td>Papineau Woods, <a href=\"/wiki/Laval,_Quebec\" title=\"Laval, Quebec\">Laval</a>,\n",
       "  </td>,\n",
       "  'Old-growth extent': <td>100 ha</td>,\n",
       "  'WWF ecoregion': 'No data',\n",
       "  'Old-growth forest type': 'No data'}]"
      ]
     },
     "execution_count": 91,
     "metadata": {},
     "output_type": "execute_result"
    }
   ],
   "source": [
    "data = prepare_all_tables(columns, data)\n",
    "data[\"Canada\"]"
   ]
  },
  {
   "cell_type": "markdown",
   "metadata": {},
   "source": [
    "# Data Analytics"
   ]
  },
  {
   "cell_type": "code",
   "execution_count": 92,
   "metadata": {},
   "outputs": [
    {
     "data": {
      "text/plain": [
       "'2,000 square kilometres'"
      ]
     },
     "execution_count": 92,
     "metadata": {},
     "output_type": "execute_result"
    }
   ],
   "source": [
    "data[\"Australia\"][3][\"Old-growth extent\"].text"
   ]
  },
  {
   "cell_type": "code",
   "execution_count": 93,
   "metadata": {},
   "outputs": [
    {
     "data": {
      "text/plain": [
       "12"
      ]
     },
     "execution_count": 93,
     "metadata": {},
     "output_type": "execute_result"
    }
   ],
   "source": [
    "# How many of the listed forests are in France?\n",
    "europe = data[\"Europe\"]\n",
    "france = [r for r in europe if \"France\" in r[\"Country\"].text]\n",
    "len(france)"
   ]
  },
  {
   "cell_type": "code",
   "execution_count": 94,
   "metadata": {},
   "outputs": [
    {
     "data": {
      "text/plain": [
       "6"
      ]
     },
     "execution_count": 94,
     "metadata": {},
     "output_type": "execute_result"
    }
   ],
   "source": [
    "# How many of the listed forests are in Tasmania?\n",
    "len([r for r in data[\"Australia\"] if \"Tasmania\" in r[\"Area\"].text])\n"
   ]
  },
  {
   "cell_type": "code",
   "execution_count": 95,
   "metadata": {},
   "outputs": [
    {
     "name": "stdout",
     "output_type": "stream",
     "text": [
      "Total area for Tasmania forests:  200100.0  ha\n"
     ]
    }
   ],
   "source": [
    "# In tasmania, of those that have data, what is the total area of these?\n",
    "australia = data[\"Australia\"]\n",
    "tasmania = [r for r in data[\"Australia\"] if \"Tasmania\" in r[\"Area\"].text]\n",
    "tasmania_area_data = [r for r in tasmania if r[\"Old-growth extent\"] != \"No data\"]\n",
    "\n",
    "total = 0\n",
    "for r in tasmania_area_data:\n",
    "    area = r[\"Old-growth extent\"].text\n",
    "\n",
    "    area = area.replace(\",\", \"\")\n",
    "    val = re.search(\"\\d*\", area).group()\n",
    "    val = float(val)\n",
    "\n",
    "    if \"square kilometres\" in area:\n",
    "        val = val * 100\n",
    "\n",
    "    total += val\n",
    "\n",
    "print(\"Total area for Tasmania forests: \", total, \" ha\")"
   ]
  },
  {
   "cell_type": "markdown",
   "metadata": {},
   "source": [
    "## From the data of bulgaria's forests, what is the proportion of bulgarias total area that is covered by these?"
   ]
  },
  {
   "cell_type": "code",
   "execution_count": 96,
   "metadata": {},
   "outputs": [],
   "source": [
    "bulgaria_rows = []\n",
    "for row in data[\"Europe\"]:\n",
    "    if row[\"Country\"].text.strip() == \"Bulgaria\":\n",
    "        bulgaria_rows.append(row)"
   ]
  },
  {
   "cell_type": "code",
   "execution_count": 97,
   "metadata": {},
   "outputs": [],
   "source": [
    "# get the link of the bulgaria article\n",
    "bulgaria_link = \"https://wikipedia.org\" + bulgaria_rows[0][\"Country\"].a[\"href\"]"
   ]
  },
  {
   "cell_type": "code",
   "execution_count": 98,
   "metadata": {},
   "outputs": [],
   "source": [
    "get_html(bulgaria_link, path=\"bulgaria.html\")"
   ]
  },
  {
   "cell_type": "code",
   "execution_count": 99,
   "metadata": {},
   "outputs": [],
   "source": [
    "with open(\"bulgaria.html\", \"r\", encoding = \"utf-8\") as f:\n",
    "    html_bulgaria = f.read()"
   ]
  },
  {
   "cell_type": "code",
   "execution_count": 100,
   "metadata": {},
   "outputs": [
    {
     "data": {
      "text/plain": [
       "<title>Bulgaria - Wikipedia</title>"
      ]
     },
     "execution_count": 100,
     "metadata": {},
     "output_type": "execute_result"
    }
   ],
   "source": [
    "bulgaria_soup = BeautifulSoup(html_bulgaria, \"html.parser\")\n",
    "bulgaria_soup.title"
   ]
  },
  {
   "cell_type": "code",
   "execution_count": 101,
   "metadata": {},
   "outputs": [],
   "source": [
    "def get_bulgaria_area(tag):\n",
    "    return tag.name == \"td\" and 'km' in tag.text and 'Total' in tag.parent.text"
   ]
  },
  {
   "cell_type": "code",
   "execution_count": 102,
   "metadata": {},
   "outputs": [],
   "source": [
    "km_tags = [t.text for t in bulgaria_soup.find_all(get_bulgaria_area)]"
   ]
  },
  {
   "cell_type": "code",
   "execution_count": 103,
   "metadata": {},
   "outputs": [
    {
     "data": {
      "text/plain": [
       "'110,993.6[3]\\xa0km2 (42,854.9\\xa0sq\\xa0mi) (103rd)'"
      ]
     },
     "execution_count": 103,
     "metadata": {},
     "output_type": "execute_result"
    }
   ],
   "source": [
    "area_tag = km_tags[0]\n",
    "area_tag"
   ]
  },
  {
   "cell_type": "code",
   "execution_count": 104,
   "metadata": {},
   "outputs": [],
   "source": [
    "b_area = re.search(\"\\d+(?:,\\d{3})*(?:\\.\\d*)?\", area_tag).group()\n",
    "b_area = float(b_area.replace(',', ''))"
   ]
  },
  {
   "cell_type": "code",
   "execution_count": 105,
   "metadata": {},
   "outputs": [],
   "source": [
    "b_area = b_area * 100"
   ]
  },
  {
   "cell_type": "code",
   "execution_count": 106,
   "metadata": {},
   "outputs": [
    {
     "data": {
      "text/plain": [
       "1107122.6"
      ]
     },
     "execution_count": 106,
     "metadata": {},
     "output_type": "execute_result"
    }
   ],
   "source": [
    "forest_total = 0\n",
    "for row in bulgaria_rows:\n",
    "    forest_data = row['Old-growth extent'].text\n",
    "    forest_data = re.search(\"\\d+(?:,\\d{3})*(?:\\.\\d*)?\", forest_data).group()\n",
    "    forest_data = float(forest_data.replace(',', ''))\n",
    "\n",
    "    forest_total += forest_data\n",
    "\n",
    "forest_total"
   ]
  },
  {
   "cell_type": "code",
   "execution_count": 107,
   "metadata": {},
   "outputs": [
    {
     "name": "stdout",
     "output_type": "stream",
     "text": [
      "Percentage of bulgartian land area accounted for old growth: 9.97465%\n"
     ]
    }
   ],
   "source": [
    "print(f'Percentage of bulgartian land area accounted for old growth: {round((forest_total / b_area)*100, 5)}%')"
   ]
  },
  {
   "cell_type": "markdown",
   "metadata": {},
   "source": [
    "### Challange: How many US states have forests with some variety of oak tree?"
   ]
  },
  {
   "cell_type": "code",
   "execution_count": 108,
   "metadata": {},
   "outputs": [
    {
     "data": {
      "text/plain": [
       "\"\\nGet us table\\nSearch for oak in 'Old-growth forrest type'\\ncount\\n\""
      ]
     },
     "execution_count": 108,
     "metadata": {},
     "output_type": "execute_result"
    }
   ],
   "source": [
    "\"\"\"\n",
    "Get us table\n",
    "Search for oak in 'Old-growth forrest type'\n",
    "count\n",
    "\"\"\""
   ]
  },
  {
   "cell_type": "code",
   "execution_count": 109,
   "metadata": {},
   "outputs": [],
   "source": [
    "us_table = data['United States']\n",
    "states = set()"
   ]
  },
  {
   "cell_type": "code",
   "execution_count": 110,
   "metadata": {},
   "outputs": [
    {
     "ename": "AttributeError",
     "evalue": "'str' object has no attribute 'text'",
     "output_type": "error",
     "traceback": [
      "\u001b[1;31m---------------------------------------------------------------------------\u001b[0m",
      "\u001b[1;31mAttributeError\u001b[0m                            Traceback (most recent call last)",
      "Cell \u001b[1;32mIn[110], line 1\u001b[0m\n\u001b[1;32m----> 1\u001b[0m us_oak \u001b[38;5;241m=\u001b[39m [r \u001b[38;5;28;01mfor\u001b[39;00m r \u001b[38;5;129;01min\u001b[39;00m us_table \u001b[38;5;28;01mif\u001b[39;00m \u001b[38;5;124m\"\u001b[39m\u001b[38;5;124moak\u001b[39m\u001b[38;5;124m\"\u001b[39m \u001b[38;5;129;01min\u001b[39;00m r[\u001b[38;5;124m\"\u001b[39m\u001b[38;5;124mOld-growth forest type\u001b[39m\u001b[38;5;124m\"\u001b[39m]\u001b[38;5;241m.\u001b[39mtext]\n\u001b[0;32m      2\u001b[0m \u001b[38;5;28mlen\u001b[39m(us_oak)\n",
      "Cell \u001b[1;32mIn[110], line 1\u001b[0m, in \u001b[0;36m<listcomp>\u001b[1;34m(.0)\u001b[0m\n\u001b[1;32m----> 1\u001b[0m us_oak \u001b[38;5;241m=\u001b[39m [r \u001b[38;5;28;01mfor\u001b[39;00m r \u001b[38;5;129;01min\u001b[39;00m us_table \u001b[38;5;28;01mif\u001b[39;00m \u001b[38;5;124m\"\u001b[39m\u001b[38;5;124moak\u001b[39m\u001b[38;5;124m\"\u001b[39m \u001b[38;5;129;01min\u001b[39;00m r[\u001b[38;5;124m\"\u001b[39m\u001b[38;5;124mOld-growth forest type\u001b[39m\u001b[38;5;124m\"\u001b[39m]\u001b[38;5;241m.\u001b[39mtext]\n\u001b[0;32m      2\u001b[0m \u001b[38;5;28mlen\u001b[39m(us_oak)\n",
      "\u001b[1;31mAttributeError\u001b[0m: 'str' object has no attribute 'text'"
     ]
    }
   ],
   "source": [
    "us_oak = [r for r in us_table if \"oak\" in r[\"Old-growth forest type\"].text]\n",
    "len(us_oak)"
   ]
  },
  {
   "cell_type": "code",
   "execution_count": 111,
   "metadata": {},
   "outputs": [
    {
     "ename": "KeyError",
     "evalue": "'Old-growth forest type'",
     "output_type": "error",
     "traceback": [
      "\u001b[1;31m---------------------------------------------------------------------------\u001b[0m",
      "\u001b[1;31mKeyError\u001b[0m                                  Traceback (most recent call last)",
      "Cell \u001b[1;32mIn[111], line 2\u001b[0m\n\u001b[0;32m      1\u001b[0m \u001b[38;5;28;01mfor\u001b[39;00m r \u001b[38;5;129;01min\u001b[39;00m us_table:\n\u001b[1;32m----> 2\u001b[0m     f_type \u001b[38;5;241m=\u001b[39m r[\u001b[38;5;124m\"\u001b[39m\u001b[38;5;124mOld-growth forest type\u001b[39m\u001b[38;5;124m\"\u001b[39m]\n\u001b[0;32m      3\u001b[0m     \u001b[38;5;28;01mif\u001b[39;00m f_type \u001b[38;5;129;01mis\u001b[39;00m \u001b[38;5;129;01mnot\u001b[39;00m \u001b[38;5;28;01mNone\u001b[39;00m \u001b[38;5;129;01mand\u001b[39;00m f_type \u001b[38;5;241m!=\u001b[39m \u001b[38;5;124m'\u001b[39m\u001b[38;5;124mNo data\u001b[39m\u001b[38;5;124m'\u001b[39m:\n\u001b[0;32m      4\u001b[0m         \u001b[38;5;28;01mif\u001b[39;00m \u001b[38;5;124m'\u001b[39m\u001b[38;5;124moak\u001b[39m\u001b[38;5;124m'\u001b[39m \u001b[38;5;129;01min\u001b[39;00m f_type\u001b[38;5;241m.\u001b[39mtext\u001b[38;5;241m.\u001b[39mlower():\n",
      "\u001b[1;31mKeyError\u001b[0m: 'Old-growth forest type'"
     ]
    }
   ],
   "source": [
    "for r in us_table:\n",
    "    f_type = r[\"Old-growth forest type\"]\n",
    "    if f_type is not None and f_type != 'No data':\n",
    "        if 'oak' in f_type.text.lower():\n",
    "            states.add(r[\"Country\"].text.strip())\n",
    "states"
   ]
  }
 ],
 "metadata": {
  "kernelspec": {
   "display_name": "base",
   "language": "python",
   "name": "python3"
  },
  "language_info": {
   "codemirror_mode": {
    "name": "ipython",
    "version": 3
   },
   "file_extension": ".py",
   "mimetype": "text/x-python",
   "name": "python",
   "nbconvert_exporter": "python",
   "pygments_lexer": "ipython3",
   "version": "3.11.7"
  }
 },
 "nbformat": 4,
 "nbformat_minor": 2
}
